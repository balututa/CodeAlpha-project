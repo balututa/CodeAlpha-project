{
 "cells": [
  {
   "cell_type": "markdown",
   "id": "cf9ded7b",
   "metadata": {},
   "source": [
    "# SOCIAL MEDIA TREND ANALYSIS"
   ]
  },
  {
   "cell_type": "markdown",
   "id": "d7906a39",
   "metadata": {},
   "source": [
    "# Importing Libraries\n",
    "\n",
    "Loading necessary libraries for data manipulation, text processing, visualization, and machine learning."
   ]
  },
  {
   "cell_type": "code",
   "execution_count": 83,
   "id": "5ca85914",
   "metadata": {},
   "outputs": [],
   "source": [
    "import pandas as pd\n",
    "import re\n",
    "from nltk.corpus import stopwords\n",
    "import nltk\n",
    "import matplotlib.pyplot as plt\n",
    "from sklearn.feature_extraction.text import CountVectorizer\n",
    "from sklearn.model_selection import train_test_split\n",
    "from sklearn.naive_bayes import MultinomialNB\n",
    "from sklearn.metrics import classification_report, accuracy_score\n",
    "from collections import Counter\n",
    "from sklearn.decomposition import LatentDirichletAllocation\n",
    "import matplotlib.pyplot as plt\n",
    "import pandas as pd"
   ]
  },
  {
   "cell_type": "markdown",
   "id": "6045a3d6",
   "metadata": {},
   "source": [
    "# Loading the Dataset\n",
    "\n",
    "Importing the dataset to be used for analysis and model building."
   ]
  },
  {
   "cell_type": "code",
   "execution_count": 84,
   "id": "9f4d8ce3",
   "metadata": {
    "scrolled": true
   },
   "outputs": [
    {
     "name": "stdout",
     "output_type": "stream",
     "text": [
      "  File Name                                              Tweet Swntiment\n",
      "0     1.txt      How I feel today #legday #jelly #aching #gym   negative\n",
      "1    10.txt  @ArrivaTW absolute disgrace two carriages from...  negative\n",
      "2   100.txt  This is my Valentine's from 1 of my nephews. I...  positive\n",
      "3  1000.txt  betterfeelingfilms: RT via Instagram: First da...   neutral\n",
      "4  1001.txt         Zoe's first love #Rattled @JohnnyHarper15   positive\n"
     ]
    }
   ],
   "source": [
    "import pandas as pd\n",
    "\n",
    "file_path = 'C:/Users/Balu0/OneDrive/Desktop/twitter_data.csv'\n",
    "\n",
    "# Specify the encoding\n",
    "data = pd.read_csv(file_path, encoding='ISO-8859-1')\n",
    "\n",
    "# Display the first few rows\n",
    "print(data.head())\n"
   ]
  },
  {
   "cell_type": "code",
   "execution_count": 62,
   "id": "a28ec018",
   "metadata": {
    "scrolled": false
   },
   "outputs": [
    {
     "data": {
      "text/html": [
       "<div>\n",
       "<style scoped>\n",
       "    .dataframe tbody tr th:only-of-type {\n",
       "        vertical-align: middle;\n",
       "    }\n",
       "\n",
       "    .dataframe tbody tr th {\n",
       "        vertical-align: top;\n",
       "    }\n",
       "\n",
       "    .dataframe thead th {\n",
       "        text-align: right;\n",
       "    }\n",
       "</style>\n",
       "<table border=\"1\" class=\"dataframe\">\n",
       "  <thead>\n",
       "    <tr style=\"text-align: right;\">\n",
       "      <th></th>\n",
       "      <th>File Name</th>\n",
       "      <th>Tweet</th>\n",
       "      <th>Swntiment</th>\n",
       "    </tr>\n",
       "  </thead>\n",
       "  <tbody>\n",
       "    <tr>\n",
       "      <th>0</th>\n",
       "      <td>1.txt</td>\n",
       "      <td>How I feel today #legday #jelly #aching #gym</td>\n",
       "      <td>negative</td>\n",
       "    </tr>\n",
       "    <tr>\n",
       "      <th>1</th>\n",
       "      <td>10.txt</td>\n",
       "      <td>@ArrivaTW absolute disgrace two carriages from...</td>\n",
       "      <td>negative</td>\n",
       "    </tr>\n",
       "    <tr>\n",
       "      <th>2</th>\n",
       "      <td>100.txt</td>\n",
       "      <td>This is my Valentine's from 1 of my nephews. I...</td>\n",
       "      <td>positive</td>\n",
       "    </tr>\n",
       "    <tr>\n",
       "      <th>3</th>\n",
       "      <td>1000.txt</td>\n",
       "      <td>betterfeelingfilms: RT via Instagram: First da...</td>\n",
       "      <td>neutral</td>\n",
       "    </tr>\n",
       "    <tr>\n",
       "      <th>4</th>\n",
       "      <td>1001.txt</td>\n",
       "      <td>Zoe's first love #Rattled @JohnnyHarper15</td>\n",
       "      <td>positive</td>\n",
       "    </tr>\n",
       "    <tr>\n",
       "      <th>...</th>\n",
       "      <td>...</td>\n",
       "      <td>...</td>\n",
       "      <td>...</td>\n",
       "    </tr>\n",
       "    <tr>\n",
       "      <th>4864</th>\n",
       "      <td>995.txt</td>\n",
       "      <td>OMG. Well done #Eskom! 'Man dies during #LoadS...</td>\n",
       "      <td>positive</td>\n",
       "    </tr>\n",
       "    <tr>\n",
       "      <th>4865</th>\n",
       "      <td>996.txt</td>\n",
       "      <td>Feelin' the love in here! #ValentinesDay #caring</td>\n",
       "      <td>positive</td>\n",
       "    </tr>\n",
       "    <tr>\n",
       "      <th>4866</th>\n",
       "      <td>997.txt</td>\n",
       "      <td>#blue #eyes can't be #beaten</td>\n",
       "      <td>neutral</td>\n",
       "    </tr>\n",
       "    <tr>\n",
       "      <th>4867</th>\n",
       "      <td>998.txt</td>\n",
       "      <td>LA CHUCHA LOUUU TE CHUPO LOS OJOS..!</td>\n",
       "      <td>neutral</td>\n",
       "    </tr>\n",
       "    <tr>\n",
       "      <th>4868</th>\n",
       "      <td>999.txt</td>\n",
       "      <td>#colorsplash_bw #zealous Remedios #herbales y ...</td>\n",
       "      <td>positive</td>\n",
       "    </tr>\n",
       "  </tbody>\n",
       "</table>\n",
       "<p>4869 rows × 3 columns</p>\n",
       "</div>"
      ],
      "text/plain": [
       "     File Name                                              Tweet Swntiment\n",
       "0        1.txt      How I feel today #legday #jelly #aching #gym   negative\n",
       "1       10.txt  @ArrivaTW absolute disgrace two carriages from...  negative\n",
       "2      100.txt  This is my Valentine's from 1 of my nephews. I...  positive\n",
       "3     1000.txt  betterfeelingfilms: RT via Instagram: First da...   neutral\n",
       "4     1001.txt         Zoe's first love #Rattled @JohnnyHarper15   positive\n",
       "...        ...                                                ...       ...\n",
       "4864   995.txt  OMG. Well done #Eskom! 'Man dies during #LoadS...  positive\n",
       "4865   996.txt  Feelin' the love in here! #ValentinesDay #caring   positive\n",
       "4866   997.txt                      #blue #eyes can't be #beaten    neutral\n",
       "4867   998.txt              LA CHUCHA LOUUU TE CHUPO LOS OJOS..!    neutral\n",
       "4868   999.txt  #colorsplash_bw #zealous Remedios #herbales y ...  positive\n",
       "\n",
       "[4869 rows x 3 columns]"
      ]
     },
     "execution_count": 62,
     "metadata": {},
     "output_type": "execute_result"
    }
   ],
   "source": [
    "data"
   ]
  },
  {
   "cell_type": "code",
   "execution_count": 85,
   "id": "7d723743",
   "metadata": {
    "scrolled": true
   },
   "outputs": [
    {
     "name": "stdout",
     "output_type": "stream",
     "text": [
      "     File Name                                              Tweet Swntiment  \\\n",
      "0        1.txt      How I feel today #legday #jelly #aching #gym   negative   \n",
      "1       10.txt  @ArrivaTW absolute disgrace two carriages from...  negative   \n",
      "2      100.txt  This is my Valentine's from 1 of my nephews. I...  positive   \n",
      "3     1000.txt  betterfeelingfilms: RT via Instagram: First da...   neutral   \n",
      "4     1001.txt         Zoe's first love #Rattled @JohnnyHarper15   positive   \n",
      "...        ...                                                ...       ...   \n",
      "4864   995.txt  OMG. Well done #Eskom! 'Man dies during #LoadS...  positive   \n",
      "4865   996.txt  Feelin' the love in here! #ValentinesDay #caring   positive   \n",
      "4866   997.txt                      #blue #eyes can't be #beaten    neutral   \n",
      "4867   998.txt              LA CHUCHA LOUUU TE CHUPO LOS OJOS..!    neutral   \n",
      "4868   999.txt  #colorsplash_bw #zealous Remedios #herbales y ...  positive   \n",
      "\n",
      "                                    Hashtags  \n",
      "0           [#legday, #jelly, #aching, #gym]  \n",
      "1                               [#disgraced]  \n",
      "2                                         []  \n",
      "3                               [#powerless]  \n",
      "4                                 [#Rattled]  \n",
      "...                                      ...  \n",
      "4864     [#Eskom, #LoadShedding, #Powerless]  \n",
      "4865               [#ValentinesDay, #caring]  \n",
      "4866                 [#blue, #eyes, #beaten]  \n",
      "4867                                      []  \n",
      "4868  [#colorsplash_bw, #zealous, #herbales]  \n",
      "\n",
      "[4869 rows x 4 columns]\n"
     ]
    }
   ],
   "source": [
    "import re\n",
    "def extract_hashtags(text):\n",
    "    return re.findall(r\"#\\w+\", text)\n",
    "\n",
    "# Create a new column with extracted hashtags\n",
    "data[\"Hashtags\"] = data[\"Tweet\"].apply(extract_hashtags)\n",
    "\n",
    "# Display the DataFrame\n",
    "print(data)"
   ]
  },
  {
   "cell_type": "code",
   "execution_count": 64,
   "id": "98cfc724",
   "metadata": {
    "scrolled": true
   },
   "outputs": [
    {
     "data": {
      "text/html": [
       "<div>\n",
       "<style scoped>\n",
       "    .dataframe tbody tr th:only-of-type {\n",
       "        vertical-align: middle;\n",
       "    }\n",
       "\n",
       "    .dataframe tbody tr th {\n",
       "        vertical-align: top;\n",
       "    }\n",
       "\n",
       "    .dataframe thead th {\n",
       "        text-align: right;\n",
       "    }\n",
       "</style>\n",
       "<table border=\"1\" class=\"dataframe\">\n",
       "  <thead>\n",
       "    <tr style=\"text-align: right;\">\n",
       "      <th></th>\n",
       "      <th>File Name</th>\n",
       "      <th>Tweet</th>\n",
       "      <th>Swntiment</th>\n",
       "      <th>Hashtags</th>\n",
       "    </tr>\n",
       "  </thead>\n",
       "  <tbody>\n",
       "    <tr>\n",
       "      <th>0</th>\n",
       "      <td>1.txt</td>\n",
       "      <td>How I feel today #legday #jelly #aching #gym</td>\n",
       "      <td>negative</td>\n",
       "      <td>[#legday, #jelly, #aching, #gym]</td>\n",
       "    </tr>\n",
       "    <tr>\n",
       "      <th>1</th>\n",
       "      <td>10.txt</td>\n",
       "      <td>@ArrivaTW absolute disgrace two carriages from...</td>\n",
       "      <td>negative</td>\n",
       "      <td>[#disgraced]</td>\n",
       "    </tr>\n",
       "    <tr>\n",
       "      <th>2</th>\n",
       "      <td>100.txt</td>\n",
       "      <td>This is my Valentine's from 1 of my nephews. I...</td>\n",
       "      <td>positive</td>\n",
       "      <td>[]</td>\n",
       "    </tr>\n",
       "    <tr>\n",
       "      <th>3</th>\n",
       "      <td>1000.txt</td>\n",
       "      <td>betterfeelingfilms: RT via Instagram: First da...</td>\n",
       "      <td>neutral</td>\n",
       "      <td>[#powerless]</td>\n",
       "    </tr>\n",
       "    <tr>\n",
       "      <th>4</th>\n",
       "      <td>1001.txt</td>\n",
       "      <td>Zoe's first love #Rattled @JohnnyHarper15</td>\n",
       "      <td>positive</td>\n",
       "      <td>[#Rattled]</td>\n",
       "    </tr>\n",
       "    <tr>\n",
       "      <th>...</th>\n",
       "      <td>...</td>\n",
       "      <td>...</td>\n",
       "      <td>...</td>\n",
       "      <td>...</td>\n",
       "    </tr>\n",
       "    <tr>\n",
       "      <th>4864</th>\n",
       "      <td>995.txt</td>\n",
       "      <td>OMG. Well done #Eskom! 'Man dies during #LoadS...</td>\n",
       "      <td>positive</td>\n",
       "      <td>[#Eskom, #LoadShedding, #Powerless]</td>\n",
       "    </tr>\n",
       "    <tr>\n",
       "      <th>4865</th>\n",
       "      <td>996.txt</td>\n",
       "      <td>Feelin' the love in here! #ValentinesDay #caring</td>\n",
       "      <td>positive</td>\n",
       "      <td>[#ValentinesDay, #caring]</td>\n",
       "    </tr>\n",
       "    <tr>\n",
       "      <th>4866</th>\n",
       "      <td>997.txt</td>\n",
       "      <td>#blue #eyes can't be #beaten</td>\n",
       "      <td>neutral</td>\n",
       "      <td>[#blue, #eyes, #beaten]</td>\n",
       "    </tr>\n",
       "    <tr>\n",
       "      <th>4867</th>\n",
       "      <td>998.txt</td>\n",
       "      <td>LA CHUCHA LOUUU TE CHUPO LOS OJOS..!</td>\n",
       "      <td>neutral</td>\n",
       "      <td>[]</td>\n",
       "    </tr>\n",
       "    <tr>\n",
       "      <th>4868</th>\n",
       "      <td>999.txt</td>\n",
       "      <td>#colorsplash_bw #zealous Remedios #herbales y ...</td>\n",
       "      <td>positive</td>\n",
       "      <td>[#colorsplash_bw, #zealous, #herbales]</td>\n",
       "    </tr>\n",
       "  </tbody>\n",
       "</table>\n",
       "<p>4869 rows × 4 columns</p>\n",
       "</div>"
      ],
      "text/plain": [
       "     File Name                                              Tweet Swntiment  \\\n",
       "0        1.txt      How I feel today #legday #jelly #aching #gym   negative   \n",
       "1       10.txt  @ArrivaTW absolute disgrace two carriages from...  negative   \n",
       "2      100.txt  This is my Valentine's from 1 of my nephews. I...  positive   \n",
       "3     1000.txt  betterfeelingfilms: RT via Instagram: First da...   neutral   \n",
       "4     1001.txt         Zoe's first love #Rattled @JohnnyHarper15   positive   \n",
       "...        ...                                                ...       ...   \n",
       "4864   995.txt  OMG. Well done #Eskom! 'Man dies during #LoadS...  positive   \n",
       "4865   996.txt  Feelin' the love in here! #ValentinesDay #caring   positive   \n",
       "4866   997.txt                      #blue #eyes can't be #beaten    neutral   \n",
       "4867   998.txt              LA CHUCHA LOUUU TE CHUPO LOS OJOS..!    neutral   \n",
       "4868   999.txt  #colorsplash_bw #zealous Remedios #herbales y ...  positive   \n",
       "\n",
       "                                    Hashtags  \n",
       "0           [#legday, #jelly, #aching, #gym]  \n",
       "1                               [#disgraced]  \n",
       "2                                         []  \n",
       "3                               [#powerless]  \n",
       "4                                 [#Rattled]  \n",
       "...                                      ...  \n",
       "4864     [#Eskom, #LoadShedding, #Powerless]  \n",
       "4865               [#ValentinesDay, #caring]  \n",
       "4866                 [#blue, #eyes, #beaten]  \n",
       "4867                                      []  \n",
       "4868  [#colorsplash_bw, #zealous, #herbales]  \n",
       "\n",
       "[4869 rows x 4 columns]"
      ]
     },
     "execution_count": 64,
     "metadata": {},
     "output_type": "execute_result"
    }
   ],
   "source": [
    "data"
   ]
  },
  {
   "cell_type": "code",
   "execution_count": 86,
   "id": "d3f7d445",
   "metadata": {
    "scrolled": true
   },
   "outputs": [
    {
     "name": "stdout",
     "output_type": "stream",
     "text": [
      "<class 'pandas.core.frame.DataFrame'>\n",
      "RangeIndex: 4869 entries, 0 to 4868\n",
      "Data columns (total 4 columns):\n",
      " #   Column     Non-Null Count  Dtype \n",
      "---  ------     --------------  ----- \n",
      " 0   File Name  4869 non-null   object\n",
      " 1   Tweet      4869 non-null   object\n",
      " 2   Swntiment  4869 non-null   object\n",
      " 3   Hashtags   4869 non-null   object\n",
      "dtypes: object(4)\n",
      "memory usage: 152.3+ KB\n"
     ]
    }
   ],
   "source": [
    "data.info()"
   ]
  },
  {
   "cell_type": "markdown",
   "id": "0761612c",
   "metadata": {},
   "source": [
    "# Data Preprocessing\n",
    "\n",
    "Cleaning the data, including text normalization, removal of stopwords, and handling missing values."
   ]
  },
  {
   "cell_type": "code",
   "execution_count": 87,
   "id": "f2c3de78",
   "metadata": {},
   "outputs": [
    {
     "name": "stderr",
     "output_type": "stream",
     "text": [
      "[nltk_data] Downloading package stopwords to\n",
      "[nltk_data]     C:\\Users\\Balu0\\AppData\\Roaming\\nltk_data...\n",
      "[nltk_data]   Package stopwords is already up-to-date!\n"
     ]
    },
    {
     "name": "stdout",
     "output_type": "stream",
     "text": [
      "  File Name                                              Tweet Swntiment  \\\n",
      "0     1.txt      How I feel today #legday #jelly #aching #gym   negative   \n",
      "1    10.txt  @ArrivaTW absolute disgrace two carriages from...  negative   \n",
      "2   100.txt  This is my Valentine's from 1 of my nephews. I...  positive   \n",
      "3  1000.txt  betterfeelingfilms: RT via Instagram: First da...   neutral   \n",
      "4  1001.txt         Zoe's first love #Rattled @JohnnyHarper15   positive   \n",
      "\n",
      "                           Hashtags  \\\n",
      "0  [#legday, #jelly, #aching, #gym]   \n",
      "1                      [#disgraced]   \n",
      "2                                []   \n",
      "3                      [#powerless]   \n",
      "4                        [#Rattled]   \n",
      "\n",
      "                                       Cleaned_Tweet  \n",
      "0                                         feel today  \n",
      "1  absolute disgrace two carriages bangor half wa...  \n",
      "2  valentines 1 nephews elated sometimes little t...  \n",
      "3  betterfeelingfilms rt via instagram first day ...  \n",
      "4                                    zoes first love  \n"
     ]
    }
   ],
   "source": [
    "import re\n",
    "from nltk.corpus import stopwords\n",
    "import nltk\n",
    "\n",
    "nltk.download(\"stopwords\")\n",
    "stop_words = set(stopwords.words(\"english\"))\n",
    "\n",
    "def preprocess_text(text):\n",
    "    text = re.sub(r\"http\\S+|www\\S+|https\\S+\", \"\", text)  # Remove URLs\n",
    "    text = re.sub(r\"@\\w+|#\\w+\", \"\", text)  # Remove mentions and hashtags\n",
    "    text = re.sub(r\"[^A-Za-z0-9 ]+\", \"\", text)  # Remove special characters\n",
    "    text = text.lower()  # Convert to lowercase\n",
    "    text = \" \".join(word for word in text.split() if word not in stop_words)  # Remove stopwords\n",
    "    return text\n",
    "\n",
    "data[\"Cleaned_Tweet\"] = data[\"Tweet\"].apply(preprocess_text)\n",
    "print(data.head())\n"
   ]
  },
  {
   "cell_type": "code",
   "execution_count": 88,
   "id": "56515f45",
   "metadata": {},
   "outputs": [
    {
     "data": {
      "text/plain": [
       "0       negative\n",
       "1       negative\n",
       "2       positive\n",
       "3        neutral\n",
       "4       positive\n",
       "          ...   \n",
       "4864    positive\n",
       "4865    positive\n",
       "4866     neutral\n",
       "4867     neutral\n",
       "4868    positive\n",
       "Name: Swntiment, Length: 4869, dtype: object"
      ]
     },
     "execution_count": 88,
     "metadata": {},
     "output_type": "execute_result"
    }
   ],
   "source": [
    "data.Swntiment"
   ]
  },
  {
   "cell_type": "markdown",
   "id": "040b54e0",
   "metadata": {},
   "source": [
    "# Sentiment Distribution Bar Graph\n",
    "\n",
    "This bar graph visually represents sentiment categories with \n",
    "distinct colors and displays \n",
    "percentage values on top of each bar for a quick overview of sentiment proportions."
   ]
  },
  {
   "cell_type": "code",
   "execution_count": 89,
   "id": "44e10925",
   "metadata": {},
   "outputs": [
    {
     "data": {
      "image/png": "[encoded data removed]",
      "text/plain": [
       "<Figure size 640x480 with 1 Axes>"
      ]
     },
     "metadata": {},
     "output_type": "display_data"
    }
   ],
   "source": [
    "import matplotlib.pyplot as plt\n",
    "\n",
    "# Sample data\n",
    "categories = ['Neutral', 'Positive', 'Negative']\n",
    "values = [45, 25, 15]\n",
    "\n",
    "# Calculate percentages\n",
    "total = sum(values)\n",
    "percentages = [(v / total) * 100 for v in values]\n",
    "\n",
    "# Define different colors for each bar\n",
    "colors = ['lightgreen', 'skyblue', 'salmon']\n",
    "\n",
    "# Plot the bar graph with different colors\n",
    "plt.bar(categories, values, color=colors)\n",
    "\n",
    "# Add percentages on top of each bar\n",
    "for i, v in enumerate(values):\n",
    "    plt.text(i, v + 1, f'{percentages[i]:.1f}%', ha='center', fontsize=10)\n",
    "\n",
    "# Labels and title\n",
    "plt.xlabel('Categories')\n",
    "plt.ylabel('Values')\n",
    "plt.title('Bar Graph with Percentages')\n",
    "\n",
    "# Show the graph\n",
    "plt.show()"
   ]
  },
  {
   "cell_type": "markdown",
   "id": "a03a51e3",
   "metadata": {},
   "source": [
    "# Label Encoding for Sentiment Analysis\n",
    "\n",
    "This section maps textual sentiment labels to numerical values using a dictionary, converting \"positive,\" \"neutral,\" and \"negative\" into 1, 0, and -1, respectively. The encoded labels facilitate the application of machine learning models on the sentiment data."
   ]
  },
  {
   "cell_type": "code",
   "execution_count": 90,
   "id": "f8d2d2fb",
   "metadata": {},
   "outputs": [
    {
     "name": "stdout",
     "output_type": "stream",
     "text": [
      "Swntiment labels: [-1, -1, 1, 0, 1, 1, -1, -1, 0, -1, -1, -1, 1, -1, -1, 0, 0, -1, -1, -1, 0, 0, 1, 0, 1, 1, 0, 0, 1, 1, 0, 0, 0, 0, 1, -1, 1, 1, 1, 1, 1, 1, 1, 1, 1, 1, 0, 1, -1, 0, 1, 0, -1, 0, 0, 1, 1, 1, -1, 1, -1, 1, 0, 1, 1, 1, -1, 1, 1, -1, 0, 1, 1, 1, 1, 1, 1, 0, -1, 0, 0, 1, 0, 0, 0, 1, 1, 0, 0, -1, 0, -1, -1, 1, -1, 1, 1, -1, -1, 0, 1, 0, -1, -1, 1, 1, 1, 1, 1, 0, 1, 0, 1, 0, 1, 1, 0, 1, 1, 1, 1, 1, 1, 1, 0, 1, 1, 1, -1, 1, 1, 1, 1, 1, 1, 1, 1, 1, 1, 0, -1, 0, 0, 1, 1, 1, 0, 0, 0, 1, 0, 0, 1, 1, 1, 0, 1, 0, 0, 0, -1, 1, 1, 1, 0, 0, 0, 1, 0, 0, 0, 1, 0, 0, 0, -1, 0, -1, 0, 1, 0, 1, -1, 1, 1, 0, -1, 0, 0, -1, -1, 0, 1, -1, 0, 0, 1, -1, 1, 1, 1, -1, -1, -1, 1, 1, 1, 1, 1, 0, 1, 0, 0, 0, 1, 0, 0, 1, -1, 0, 1, 1, 0, 1, 1, -1, 1, 0, 0, 1, 0, 1, 1, 1, 1, 1, 1, 1, 1, -1, 1, 1, 1, 1, -1, 1, 1, -1, 1, 1, 1, -1, 1, -1, -1, 0, -1, -1, -1, 0, -1, 1, 1, 1, 1, 1, 1, 1, -1, 0, -1, -1, 0, -1, 0, -1, -1, 0, 0, 0, 0, 0, 1, 1, 0, -1, 1, 1, 1, 1, 0, -1, -1, 1, -1, 1, -1, 0, -1, 0, -1, 1, -1, 1, 1, 0, 1, 1, 1, 0, 1, 1, 1, 1, -1, 0, 0, 0, -1, 0, -1, 0, -1, -1, 0, -1, -1, 0, 1, 1, 1, 0, 0, -1, 0, -1, 0, 0, 0, 1, -1, -1, 0, -1, 1, -1, -1, -1, -1, 0, 1, 1, 1, -1, 0, -1, -1, 0, -1, -1, 1, 0, 1, 1, 0, -1, 1, 1, -1, 1, -1, -1, -1, 0, 0, -1, -1, -1, 1, -1, -1, 1, -1, 0, -1, 1, -1, -1, 1, 1, 0, 1, 0, -1, 1, -1, 1, 1, 1, -1, 0, -1, -1, 1, -1, -1, -1, 0, -1, 0, 1, -1, 1, -1, 0, -1, -1, 0, 0, 0, 0, 0, -1, 0, -1, 0, 1, 0, 1, 1, 0, 0, 1, -1, 1, 1, 0, 1, 1, -1, 1, -1, 0, 1, -1, 0, 0, 1, -1, -1, -1, -1, -1, 1, -1, 0, -1, 0, -1, 1, 1, -1, 0, -1, 1, -1, -1, -1, 1, 1, 1, 1, 1, 1, -1, 1, 1, 1, 1, 1, 1, -1, 0, 1, 0, -1, -1, 1, 1, 0, 1, 0, 0, -1, -1, -1, 1, -1, 1, 1, 1, 1, 0, 1, -1, 0, 1, 0, 0, 1, 1, 1, -1, 1, 1, 1, 0, 1, 1, 1, 1, 1, 1, -1, 1, 1, 1, 1, -1, 1, 1, 1, 1, 0, 0, -1, 1, 1, -1, -1, -1, 0, 1, -1, -1, 1, -1, 1, 1, 0, -1, 1, 0, 0, 0, 1, 1, -1, 1, 0, 0, -1, 0, 0, -1, -1, -1, 0, 0, 0, -1, 0, 0, -1, 0, 0, -1, 1, 0, 0, 1, 1, 1, -1, -1, -1, -1, -1, -1, -1, 1, -1, 1, 0, -1, 0, 0, -1, 0, 0, -1, 0, -1, 0, -1, 0, -1, 1, -1, 0, 1, -1, -1, -1, -1, 1, 1, 1, 1, 1, 1, 1, 1, 1, 1, 0, 1, -1, -1, -1, -1, -1, 0, -1, -1, -1, -1, -1, -1, -1, -1, 0, -1, 0, 1, 0, 0, 0, 1, 1, 1, 0, 1, 0, 1, -1, -1, 0, 1, -1, 0, 1, 1, 0, 0, 0, 1, 1, -1, 1, 1, 0, -1, -1, 1, 0, 0, 0, 0, 1, 1, 1, 1, 1, 1, 1, 1, 1, 0, 0, 1, 0, 1, -1, 0, 1, 1, 1, -1, 1, 1, 1, 1, 1, 1, 1, 1, 0, 1, 1, 1, 1, -1, 1, 1, 1, 1, 1, 1, 1, 1, 1, 0, 1, 1, 1, 1, 1, 1, 1, 1, 0, -1, 1, 1, -1, -1, 1, 0, 1, 0, 0, 0, 1, 1, 1, 0, 0, -1, -1, 0, 1, -1, -1, -1, 0, -1, -1, -1, 1, 0, 1, 1, 1, -1, -1, -1, 1, 1, 0, -1, -1, -1, -1, 1, -1, -1, 0, 1, 1, 0, 1, 1, -1, 1, -1, -1, -1, -1, 1, 1, 0, -1, 0, -1, 0, 1, 1, 1, 1, 0, 1, 0, 1, 0, 0, 0, 1, 1, 0, 0, 1, 1, -1, 1, 1, -1, 0, -1, 1, 0, -1, 0, 1, 0, -1, 0, 1, 1, 1, 1, -1, 1, 1, -1, 1, -1, 0, 0, 0, 0, -1, 0, 0, 1, 1, -1, -1, 1, -1, 1, -1, 1, 0, -1, 0, -1, 0, -1, 0, 1, 0, -1, -1, 0, 0, 0, 0, 1, 0, 1, 0, 0, 0, -1, -1, 0, -1, 1, 1, 0, 1, 1, 1, 1, 0, 1, 0, 1, 0, 0, 0, 1, 1, 1, -1, 1, 0, 1, 1, -1, -1, -1, -1, -1, -1, -1, -1, -1, 0, -1, -1, 0, -1, 1, -1, 1, 1, 1, 1, 1, 0, 0, -1, 0, 0, -1, 0, 1, 0, 0, 1, -1, -1, -1, -1, -1, 0, 0, -1, 1, 0, 1, 1, 0, 1, 0, -1, 0, 1, -1, 0, 0, 0, -1, 1, -1, -1, 1, -1, 0, -1, 0, 0, 1, 0, 0, 0, 1, 1, 1, 1, 1, 0, 1, 0, 1, 1, -1, 0, 1, 1, -1, 1, -1, -1, 0, 1, -1, -1, -1, 1, 0, -1, 0, -1, 1, 0, 0, 0, 0, 0, 0, 1, -1, -1, 0, 0, 0, 1, 1, 0, -1, -1, -1, 1, 0, 0, 1, -1, 1, 1, 0, 0, 0, 1, 0, -1, -1, 0, -1, 0, -1, 0, -1, 0, -1, 0, 1, 1, 0, 1, 1, 0, 0, -1, 0, -1, -1, -1, -1, 1, -1, -1, -1, 0, -1, -1, 0, 0, 1, 0, 0, 1, 0, -1, 1, 1, 1, 0, 1, -1, 0, 1, 1, 0, 1, -1, 1, 1, 0, -1, 0, 0, 0, 1, -1, 0, 1, 1, 1, 1, 1, 1, 1, 1, 1, 1, 1, 1, 1, 1, 0, 0, 1, 1, 1, 1, 1, 1, 1, 1, 1, -1, 1, 0, -1, 1, 1, -1, 1, 0, 1, -1, -1, -1, -1, -1, 1, -1, 0, 0, -1, -1, -1, -1, 0, 0, 0, 0, 1, 0, 0, -1, -1, 0, -1, 1, 1, 0, -1, -1, 0, 0, -1, -1, -1, -1, 0, 1, 1, -1, -1, 1, 0, 0, 1, 0, -1, 1, 1, 1, 0, 0, 0, -1, 0, 0, -1, 1, -1, 1, -1, -1, -1, -1, 1, 0, -1, -1, 0, 0, 0, 0, 0, 1, -1, -1, 1, -1, 1, -1, 1, 1, 0, 0, 1, 0, -1, -1, 1, 0, 1, 0, -1, 1, 0, -1, -1, -1, 0, 1, 0, 1, 0, 1, 0, 0, -1, 0, -1, -1, 0, 0, 1, -1, 1, -1, 1, 1, -1, -1, -1, 1, 0, 0, 1, 0, -1, -1, -1, -1, -1, 1, -1, -1, 0, 1, 1, -1, 1, 1, 1, 0, 1, 1, 1, 1, 1, -1, 0, -1, 1, 1, 0, 1, -1, -1, 0, 1, 1, -1, -1, 0, 0, 1, -1, 1, -1, 1, 0, 0, 1, -1, -1, 0, -1, -1, -1, 1, 1, 0, 0, 0, 1, 1, 1, -1, 1, 0, 1, -1, 0, 0, 1, 1, 1, 0, 0, 1, 0, 0, 0, 0, -1, 0, 1, 0, 0, 0, -1, -1, -1, -1, 1, -1, 0, -1, -1, -1, -1, 1, -1, 0, -1, -1, 1, -1, 0, 1, 0, 0, -1, 1, 0, 0, -1, 1, 1, -1, -1, -1, -1, -1, 0, 0, 0, 1, 0, 0, 0, -1, 1, 0, 0, 1, 0, -1, 0, 1, 0, 0, -1, 1, 1, 1, 1, 0, 1, 0, -1, 0, 0, 1, -1, 1, 0, -1, -1, -1, 1, 1, 1, -1, 0, -1, -1, 1, 0, 0, 0, 1, -1, 1, 0, 1, 1, 0, 0, 1, -1, 1, 0, 0, 0, 0, 0, 1, 0, -1, 1, -1, 0, -1, 0, 1, 0, -1, -1, 1, -1, -1, -1, 0, 1, 1, 1, 1, 1, 1, 0, -1, -1, 0, -1, -1, 0, -1, -1, 0, 0, -1, 0, 1, 1, 1, -1, 0, 1, 1, 1, 1, 1, 1, 1, 1, 0, 1, 1, 1, 1, 1, 1, 0, 1, 1, 0, 1, 0, 0, -1, 0, 0, -1, 0, 0, -1, 0, 0, 0, -1, 0, -1, 0, 1, -1, 0, -1, 1, 0, -1, 0, -1, 1, 0, 0, -1, -1, 1, 1, -1, -1, 0, -1, -1, -1, 1, 1, 0, -1, 0, -1, 0, 0, 0, -1, 1, 0, 1, 0, 0, 0, 1, 0, -1, -1, -1, 1, -1, 0, 0, 0, 0, 1, 0, 0, -1, -1, -1, -1, 0, -1, 1, -1, 1, 0, -1, 0, 1, 1, 0, 1, -1, 0, -1, -1, 0, -1, -1, -1, 1, 1, 1, 0, 1, 0, 0, -1, 0, -1, 1, 1, 0, -1, -1, 0, 1, 0, 1, -1, 1, 1, 1, 0, 0, -1, 1, 0, 0, 0, 0, 0, 0, 1, -1, -1, 0, -1, 0, -1, 0, 0, 1, -1, 0, 0, -1, -1, -1, -1, -1, -1, -1, -1, -1, -1, -1, -1, -1, -1, 1, -1, -1, 0, 0, 0, -1, -1, 0, 0, -1, -1, -1, -1, -1, -1, -1, -1, 0, 1, 1, 1, 1, 0, 0, 0, 0, -1, 0, 0, 1, 0, -1, -1, -1, -1, 1, -1, -1, -1, -1, -1, -1, 0, -1, -1, -1, -1, -1, 0, 0, -1, -1, -1, -1, -1, -1, 0, -1, -1, -1, -1, -1, -1, -1, 0, -1, -1, 0, 0, -1, 0, 1, -1, 0, 0, -1, 0, -1, -1, 0, -1, 0, -1, 1, 0, -1, -1, 0, -1, 0, 1, 1, 1, 1, -1, 0, 1, 0, 1, 0, -1, -1, -1, -1, -1, -1, 1, 1, 1, 1, 1, 1, 1, 1, 1, 1, 0, 1, 1, 1, -1, 0, 0, 1, 0, 1, 1, 1, 0, 1, 0, 1, 0, 0, 0, 1, 0, 1, 1, 1, 1, 0, 0, 1, 1, 1, 1, 1, 1, -1, 1, 0, -1, -1, 1, 1, 1, -1, -1, 0, 1, 1, 1, 1, 0, -1, -1, 1, 1, 0, 0, 0, 1, 1, 0, -1, 0, 0, -1, 1, -1, 1, -1, -1, 0, 1, -1, -1, -1, -1, 1, 1, 1, 1, 1, 0, 1, 1, 1, 0, 1, -1, 1, 0, 1, 1, -1, -1, -1, 0, -1, 1, 1, 1, -1, 0, 0, -1, 1, 1, 0, 1, 0, -1, -1, 0, -1, -1, 0, -1, -1, 1, 0, 1, 1, 1, 1, -1, -1, 0, -1, 0, 1, 1, -1, 1, 0, 1, 0, 1, -1, 1, 1, 1, 1, 1, -1, 0, 0, 0, 0, -1, 1, 0, 0, 0, 0, 0, 0, 1, 0, 0, 0, 1, 0, 0, 0, 0, 1, 0, -1, 0, 1, -1, 1, 1, 0, 0, 0, 0, -1, 0, 0, -1, 1, 1, 0, 0, 0, 0, 0, 0, 0, 1, 0, 0, 1, 0, 1, 0, 1, 0, 0, 1, 1, 1, 1, -1, 1, 1, 1, -1, 0, 0, 1, 0, 0, 0, 1, 1, 0, -1, -1, -1, -1, 0, 1, 0, -1, 1, 1, 0, -1, 0, 1, 1, 1, 0, 0, 1, 1, 1, 1, 1, 0, 0, -1, -1, 0, -1, -1, 0, 0, 0, -1, 0, 1, 0, -1, 0, 1, 1, -1, 1, 1, 1, 1, 1, 1, 1, 1, 1, 1, 1, 1, 1, 1, 1, 1, 1, 1, 1, 1, 1, 0, 0, 0, 0, 0, 0, 0, 0, -1, 0, -1, 1, 0, -1, 0, 0, 0, 1, 0, 1, 1, 0, -1, -1, 0, -1, 0, 1, 0, 1, 1, 0, 1, 1, 0, 1, 0, 0, 0, -1, -1, -1, 0, -1, -1, -1, -1, -1, 1, -1, -1, 0, 0, -1, 0, -1, -1, -1, -1, 1, 0, 1, 1, 1, 1, 0, 1, -1, 0, -1, -1, -1, 0, -1, 1, 0, 0, 1, -1, -1, -1, 1, 1, 0, -1, -1, -1, 0, 0, -1, 1, 1, 0, 0, 0, 1, -1, -1, -1, -1, -1, 0, -1, 1, -1, -1, -1, -1, 0, 1, -1, 1, 0, 1, 1, 0, 1, 0, 1, 1, -1, 0, 0, 0, 1, 0, 0, -1, -1, 1, 1, 0, 1, -1, -1, 0, -1, -1, -1, -1, 0, 0, 0, 1, -1, -1, -1, -1, -1, -1, 1, 1, 0, -1, 0, 1, 0, 0, 1, 1, 0, 0, -1, -1, 1, -1, -1, -1, -1, 1, 1, -1, -1, 0, -1, 1, 1, 1, 0, -1, -1, -1, 0, -1, 1, 0, -1, 1, 1, 1, 1, 0, 0, 0, 1, -1, 0, 1, -1, -1, 0, 0, -1, 0, -1, -1, -1, 0, -1, 1, 0, 0, 1, 0, 0, -1, 0, 1, 0, 0, 1, 0, 0, 0, 0, 1, -1, 0, 1, 0, 1, 1, 1, 1, 0, 1, 1, -1, 0, 1, 1, 1, 1, 1, 1, 1, 1, 1, 0, 1, 0, -1, 0, -1, 0, 0, -1, -1, -1, -1, 0, -1, 0, -1, -1, 1, 1, 1, 1, 1, 1, 1, 1, 1, 1, 1, 0, 1, 1, 0, 0, 1, 0, 0, 0, 0, 1, 0, 0, 0, 0, 0, 0, 0, 0, 0, -1, 0, -1, 1, 0, 1, 0, 0, 0, 1, 0, 1, 0, 1, 1, 0, 0, 0, 0, -1, 1, 1, -1, -1, -1, 0, -1, 0, 1, 1, -1, 1, 1, 1, 1, 1, -1, 0, -1, 0, 1, -1, 1, 0, 0, 0, 1, -1, -1, -1, 1, -1, 1, -1, 0, -1, 1, 0, -1, -1, -1, -1, 0, 0, 0, 1, 1, 0, 0, 1, 1, 1, 1, 1, 1, 0, 0, 0, 1, 0, 1, 0, 0, 0, 1, 1, -1, -1, -1, -1, -1, 1, -1, 1, -1, -1, 1, 1, 1, 1, -1, -1, -1, -1, 0, -1, 1, -1, 1, -1, -1, 0, 0, -1, -1, 0, 0, 1, -1, -1, -1, 1, 0, 0, 0, 1, 0, 0, 0, -1, 1, 0, 0, 0, 0, -1, -1, -1, 1, 1, 0, 1, -1, 1, -1, 1, 0, -1, -1, -1, -1, -1, 0, 0, 0, -1, 1, 1, -1, 0, 1, -1, -1, 0, 1, -1, 0, -1, -1, 1, 1, 1, 1, -1, 1, 1, 1, 0, -1, -1, 0, 0, -1, -1, -1, -1, -1, -1, -1, -1, 0, 0, -1, 0, -1, 1, 0, 0, -1, 1, 0, 0, 1, 1, -1, 0, 0, 1, 0, 0, 0, 1, 1, -1, -1, 0, -1, 0, 1, 0, -1, -1, -1, 0, -1, -1, -1, 1, -1, 0, -1, 1, 0, 1, 0, 1, 1, 1, 0, -1, 0, -1, 1, -1, -1, -1, -1, 0, -1, 0, -1, -1, -1, 1, -1, 0, -1, -1, 1, 0, 1, 0, 0, -1, -1, -1, -1, 0, -1, 0, 1, -1, -1, -1, -1, -1, -1, -1, 0, -1, 0, -1, -1, -1, -1, -1, -1, 0, 0, -1, 0, 0, 0, -1, 0, -1, 1, -1, 0, -1, -1, 0, 0, -1, 1, -1, 0, -1, 1, 0, 1, 1, 1, 1, 0, 1, 0, 0, 0, 1, 1, 0, 0, 0, 0, -1, 1, 0, 1, 1, 1, 1, 0, 1, 0, 0, 0, 0, 1, 0, 1, 1, 0, 1, 1, 0, -1, 0, -1, -1, 1, 1, -1, 1, 1, 1, 1, 1, 1, 1, 1, 1, 1, 1, 1, 1, 0, 1, 1, 0, 1, 1, 0, -1, 1, -1, -1, 0, 1, 0, 1, -1, -1, -1, -1, -1, -1, -1, -1, -1, -1, 0, -1, 0, -1, 0, 0, 1, 0, 1, 0, 1, 0, -1, 1, 1, 1, 0, 0, -1, 0, 1, -1, 1, 1, 1, 1, 1, -1, 1, 1, 0, -1, 1, -1, 1, 1, 0, 0, 0, 0, 0, 0, -1, -1, 0, 1, 1, 0, 0, 0, 0, 1, 0, 0, 1, 0, -1, -1, -1, 0, -1, -1, 0, 0, 0, 0, -1, 0, -1, -1, 0, -1, 1, 1, 0, 1, 1, 1, 1, 1, 1, 0, 1, -1, 0, 0, -1, 0, -1, 0, 0, 1, 0, -1, 1, 1, 1, 1, 1, 0, 0, 0, 0, 0, 1, -1, -1, 0, 1, -1, -1, -1, -1, -1, 0, 0, -1, -1, -1, -1, -1, -1, -1, -1, -1, -1, 1, 0, 0, 0, -1, 0, 0, -1, 0, 1, 1, 1, 0, 0, 0, 0, 0, 0, 0, 0, 0, -1, 0, 0, 0, 1, 1, 0, 0, 0, 0, -1, 0, 0, -1, -1, -1, -1, -1, -1, -1, -1, 0, -1, -1, 1, 0, 1, -1, 0, 0, 0, 1, -1, 0, 1, 1, 0, -1, -1, 1, -1, -1, -1, -1, 0, -1, 1, 1, 1, 1, 1, 1, 1, 1, 1, 1, 1, 1, 1, 1, 0, 1, -1, -1, -1, 1, 1, 1, 1, 1, 0, 1, -1, 0, 0, -1, 0, 0, 1, 1, 0, 0, 0, 0, 0, 0, 1, 0, 0, 0, 0, 0, 1, 0, 0, 1, 0, 0, 1, -1, -1, 1, 1, -1, -1, -1, -1, 0, 0, 1, -1, 0, 1, 0, -1, -1, -1, 0, 0, 0, -1, -1, -1, 0, 1, 0, 0, 1, -1, 0, 0, -1, -1, 0, 1, 1, 1, -1, 0, -1, 1, -1, 0, 1, -1, 1, 0, 0, -1, -1, -1, -1, -1, -1, -1, -1, -1, -1, -1, -1, -1, 1, 1, 0, 1, 0, 1, -1, -1, 0, 1, 1, 0, 0, 0, 0, 1, 0, 1, -1, 0, 0, -1, -1, 0, 1, 0, -1, 0, 0, 0, 0, -1, 1, 0, 0, 0, 0, -1, 0, 0, -1, -1, 1, 1, 0, 0, 0, 0, 0, 0, -1, -1, 0, 1, 0, -1, 0, -1, 1, 1, -1, 1, 0, 1, 1, 0, -1, 1, 1, 1, 1, 1, 0, 0, 0, 1, 0, 0, 1, 0, 0, 0, 1, 0, -1, -1, -1, -1, 0, -1, 0, 0, -1, 0, -1, -1, -1, 0, -1, 1, 0, 0, 0, 0, 1, 0, 0, 0, -1, 0, 0, 1, 0, -1, -1, 0, -1, 0, -1, 0, 0, 0, 0, 0, -1, 0, 0, 1, 0, 0, 0, -1, -1, -1, -1, 0, 0, -1, 1, 0, 0, -1, 0, 0, 1, 0, 0, 0, 0, 0, 1, 0, 0, 0, 1, -1, -1, 0, 0, 0, 0, 0, 0, 0, 0, 1, 0, 1, 1, 0, 1, 0, -1, 0, 0, 0, 0, 0, 1, -1, 0, 0, 0, 0, -1, 0, -1, 1, -1, 1, 0, 0, -1, 0, 0, 0, -1, 1, 0, 0, 0, 0, 1, -1, 0, 0, 0, 0, 0, 0, -1, 0, 0, 0, 1, 0, 0, 0, 0, 0, 0, 0, 0, 0, 0, 0, 0, 0, -1, 0, 0, 0, 1, 1, 0, 0, 0, -1, 0, 1, 0, -1, 0, 0, 0, -1, -1, -1, -1, -1, -1, 1, 0, 0, 1, 0, 1, 1, 1, 1, 0, -1, -1, 0, 0, 0, -1, 0, 0, -1, -1, -1, 1, -1, 0, 1, 1, 1, 0, -1, 1, 1, 0, -1, 1, 1, 1, -1, 0, -1, 1, 0, 0, 1, 0, -1, 0, 0, 0, 1, 0, 1, 0, 0, 1, 0, 1, -1, 1, 1, 0, 1, 1, 0, 1, 1, 1, -1, -1, 1, 1, 0, 0, 0, 1, 1, -1, -1, 0, -1, -1, 0, 1, 0, 0, -1, 0, 0, 0, -1, 0, 1, -1, -1, 1, 1, -1, 0, -1, -1, 0, 1, 0, 1, 0, 0, 1, 1, 0, 1, 0, 0, 0, 1, 0, -1, 1, 0, 0, 0, 0, -1, 0, 0, -1, -1, 1, -1, 0, 0, 0, 0, 0, 0, 0, 1, 0, -1, 1, -1, 1, 1, 1, 1, 1, 1, 1, 1, 1, 1, 1, 1, 1, 1, 1, 1, 0, 1, 1, 1, 1, 0, 0, 0, -1, 0, 1, 0, 0, 0, 0, 0, 1, 0, 0, -1, -1, -1, 1, 1, 0, -1, 0, 0, 0, -1, -1, 1, 0, -1, 0, 0, 1, 0, 1, -1, -1, -1, -1, -1, -1, -1, -1, 0, -1, 0, -1, -1, 0, 0, -1, -1, -1, -1, 0, -1, 1, -1, -1, -1, -1, -1, -1, -1, -1, -1, 1, 0, 0, 0, 0, 0, -1, 0, -1, -1, -1, -1, -1, -1, -1, -1, -1, -1, 0, 1, 1, 0, 1, 1, 0, 1, 1, 1, -1, 0, -1, 0, 0, -1, -1, -1, 0, 1, 0, -1, 0, 0, 0, 0, -1, 0, 0, -1, -1, -1, 0, 0, -1, -1, -1, -1, 0, 1, -1, 0, 0, -1, 1, -1, -1, 1, -1, -1, 1, 0, -1, -1, 1, 0, -1, -1, -1, -1, 0, -1, -1, -1, 0, 0, -1, -1, 1, -1, -1, -1, 1, 0, -1, -1, -1, -1, 0, -1, 0, -1, 0, 0, -1, -1, 0, 0, 0, -1, -1, 0, 0, 1, 0, 0, 0, 1, 1, 0, 0, 0, 0, 0, 0, 0, -1, 1, 1, 0, 1, 0, 1, 1, 0, 1, 1, -1, 1, 1, 1, 1, 0, 1, -1, 0, 1, -1, 1, 0, 1, -1, -1, 1, 0, 0, 1, 0, 0, -1, 0, 1, -1, 0, 1, -1, 1, 0, 0, 0, 0, 0, -1, 1, 0, -1, -1, 1, 1, 0, 1, 0, -1, 0, 1, 1, 1, 0, 1, 0, 0, 0, 1, 0, 1, 0, 0, 1, 1, 0, 1, 0, -1, 1, 1, -1, 0, 1, 1, 1, 1, 1, 1, 1, -1, 0, 1, 1, -1, 0, 0, 1, 0, 0, 0, -1, 1, 1, 0, -1, 1, 1, -1, -1, 0, 0, 1, 1, 0, 0, -1, 0, 0, 0, 1, -1, 1, 1, -1, 1, 1, 0, 1, 1, 1, 1, 1, 1, 0, 1, 1, 1, -1, 0, -1, 0, -1, 0, 0, -1, 1, -1, 0, 0, 1, 0, 0, 0, 0, 1, 0, -1, 0, 0, 0, 1, 1, -1, -1, -1, 0, 0, 1, 0, 0, -1, 0, -1, 0, 0, 0, -1, -1, 1, 0, 1, 1, 1, 1, 0, 0, 0, 0, 1, 1, 0, 0, 0, -1, 0, 0, 1, 1, 1, 0, 1, 0, 0, 1, 0, -1, -1, -1, 0, -1, 0, 0, 0, 0, 0, 0, 0, -1, 0, 0, 0, -1, 0, 1, -1, 0, 0, 0, -1, -1, 1, 0, -1, 0, 1, -1, 1, -1, -1, -1, 0, 0, -1, -1, 0, 1, 1, 0, 0, 0, 1, 0, 0, 0, 0, 0, 0, 1, 1, 1, 1, 0, -1, 0, 0, -1, -1, 1, 0, -1, 0, 0, -1, -1, -1, 1, -1, -1, 1, -1, 0, 0, -1, 0, 0, -1, 0, 0, -1, 1, 0, 0, -1, -1, 0, 1, 0, 1, 1, 0, 1, 1, 1, 1, 1, 1, 1, 1, 1, 1, 1, 1, 1, 1, 1, 1, 0, 1, 1, 1, 1, 1, -1, 0, 0, -1, 1, 1, 0, 0, -1, 1, 0, 0, -1, 0, 0, 1, 1, -1, 0, 0, 0, 0, 0, 0, 1, -1, 0, 0, 0, 0, -1, -1, -1, 0, 1, -1, 0, 0, 0, 1, -1, -1, 0, 0, -1, 0, 0, 0, 0, 0, -1, -1, 0, 0, -1, -1, 0, -1, -1, -1, -1, 0, -1, -1, -1, -1, 0, 0, -1, 0, 0, 0, 0, -1, -1, 0, -1, 1, 0, 0, 0, 0, 0, 0, 1, 1, 1, 0, 0, -1, 0, 0, 0, 0, 1, 0, 1, 1, 0, 1, 1, 0, 0, 0, 0, 0, -1, 0, 0, 0, 0, -1, -1, 1, 1, 0, 1, 1, 1, 1, 0, 1, 0, 1, 0, -1, 0, -1, 0, -1, 0, -1, 0, 0, 1, -1, 0, 0, 0, 1, -1, 0, 0, 0, -1, 1, -1, 0, -1, 1, 1, -1, 0, 1, 1, 0, 1, 0, 1, 1, 0, 0, 0, 0, 0, 0, 0, 1, 0, 1, 0, 0, -1, 0, 0, 1, 0, 1, 1, 1, 1, 1, 0, 0, 0, 1, 0, 0, 0, 1, 0, 0, 0, 0, 0, 0, 0, 0, 0, 0, 1, 0, 0, 0, 0, 0, 0, 0, -1, -1, 0, 1, 0, -1, 0, -1, -1, -1, -1, 0, 0, -1, 1, 0, 1, 1, 0, 0, 1, 0, 1, 1, 1, 1, 1, 1, 0, -1, -1, 0, -1, -1, 1, 1, 1, 1, 1, 1, 1, 0, 1, -1, 1, 1, 1, 0, -1, -1, 0, 0, 0, 1, 0, 0, 0, 0, 0, -1, -1, 1, 1, 1, 1, 1, 1, 1, 0, 1, 0, -1, 1, -1, 0, -1, 0, 0, -1, -1, -1, 0, 0, -1, -1, -1, -1, 1, 0, 1, -1, 0, 0, -1, 1, 0, 0, 0, 0, 1, 0, 0, 1, 1, 1, -1, 0, 1, -1, 1, -1, 1, -1, 0, 0, -1, 0, -1, -1, 0, -1, 0, -1, 0, 0, 0, -1, -1, 0, 0, 0, -1, 0, 1, 0, -1, 0, 0, 0, 0, 0, -1, -1, -1, 0, 0, -1, -1, 0, -1, 0, 0, -1, 0, -1, 0, 0, -1, 1, -1, -1, -1, 0, -1, 0, 0, 0, -1, 1, 0, -1, 0, 0, -1, -1, 1, 1, 1, 1, -1, 1, -1, -1, 1, -1, 0, 0, 0, -1, 0, -1, 1, 0, 0, -1, -1, -1, 1, -1, -1, 1, 0, 1, -1, 1, -1, 0, 1, 1, -1, -1, 0, 0, 1, -1, 1, -1, 0, -1, 1, 1, -1, -1, 0, 0, 1, 1, 1, 1, 0, -1, -1, -1, 1, 0, -1, 1, 1, 0, 0, 1, 0, 0, -1, 1, 0, 0, 0, 1, 1, 1, 0, 0, 0, -1, 0, 0, 0, 0, 0, 0, 1, -1, -1, 0, -1, 1, 1, 0, 1, 0, -1, 0, 0, 0, 0, -1, 0, 0, -1, 1, 1, 0, 0, 1, 1, 0, -1, 0, 0, -1, 0, 0, 1, 1, 0, -1, -1, 0, 1, 1, 1, 0, -1, 0, 0, 1, 0, 0, -1, 0, -1, 0, 0, 1, 1, 1, 1, -1, 1, 1, 1, 1, -1, 1, 1, 0, 1, -1, -1, 0, 1, -1, 1, 1, 0, -1, 0, -1, -1, 0, 0, -1, -1, 1, 0, -1, -1, 0, 1, 1, -1, 1, 0, 0, 1, -1, 0, 1, 1, 1, 0, 0, 1, 1, 0, -1, 0, 1, 0, 0, 0, 0, -1, -1, 1, 0, 1, 1, -1, -1, 0, 0, 0, 1, 1, 1, 1, 1, -1, 1, 1, 1, 1, 1, 1, 1, 1, -1, 0, 0, 1, -1, 1, -1, 0, 1, 1, 1, -1, 1, -1, 0, 0, 0, 0, 0, 0, 1, 1, 0, 0, 1, 1, 1, 0, 1, 0, -1, 1, 1, 1, -1, 0, 1, 0, 0, -1, 0, 0, 0, 0, -1, 0, 1, 0, 1, 1, 1, 0, 1, 1, -1, -1, 1, 1, 1, 0, -1, 1, 0, 0, 0, 0, -1, 0, 0, -1, 1, -1, 0, -1, -1, -1, -1, 0, 1, 1, 0, 1, 0, 1, 1, 1, 0, 0, 0, 1, 1, 1, 1, 1, 1, 0, 1, 1, 1, 1, 1, 1, 1, 1, 1, 1, 1, 1, 1, 1, 1, -1, -1, 1, 1, 1, 1, -1, 0, 0, -1, 1, 0, -1, 0, -1, 0, 0, 0, 0, 0, -1, -1, -1, 1, 1, 0, 0, 0, 1, 0, 1, 0, 0, 0, 0, 1, -1, 0, 0, -1, -1, -1, 0, 0, 0, -1, 1, -1, -1, 0, -1, 1, -1, 0, -1, -1, -1, 1, 0, -1, 0, -1, 0, 0, 1, 1, 0, -1, 1, -1, -1, -1, 0, -1, 0, 0, -1, 1, 0, 1, 1, -1, 1, 1, 1, 1, 1, 1, 1, -1, 1, -1, 1, -1, 1, 1, 1, -1, -1, -1, -1, 0, 1, -1, -1, 1, 1, 1, 1, 0, -1, -1, 1, 1, 0, -1, -1, -1, 0, -1, 0, -1, -1, -1, 0, -1, -1, 0, 0, 0, -1, 1, 0, 0, 1, 1, 0, 1, 1, -1, -1, 0, 0, 0, 0, 0, 1, 1, -1, -1, 0, 0, 0, 0, -1, 1, 0, 1, 1, 1, -1, 0, 0, -1, 1, 1, 1, 1, 1, 0, 1, -1, 1, 1, 1, 1, 1, 1, -1, 1, 1, 0, 1, 1, 1, 1, 1, 1, 1, 1, 1, 0, 0, -1, -1, -1, 1, 1, 0, 0, 1]\n"
     ]
    }
   ],
   "source": [
    "# Define the mapping\n",
    "label_mapping = {\"positive\": 1, \"neutral\": 0, \"negative\": -1}\n",
    "\n",
    "# Convert labels\n",
    "Swntiment_encoded = [label_mapping[label] for label in data.Swntiment]\n",
    "\n",
    "print(\"Swntiment labels:\", Swntiment_encoded)"
   ]
  },
  {
   "cell_type": "code",
   "execution_count": 91,
   "id": "f196fe0e",
   "metadata": {},
   "outputs": [],
   "source": [
    "data[\"Swntiment_encoding\"] = data[\"Swntiment\"].map(label_mapping)\n"
   ]
  },
  {
   "cell_type": "code",
   "execution_count": 71,
   "id": "e7b15197",
   "metadata": {
    "scrolled": true
   },
   "outputs": [
    {
     "data": {
      "text/html": [
       "<div>\n",
       "<style scoped>\n",
       "    .dataframe tbody tr th:only-of-type {\n",
       "        vertical-align: middle;\n",
       "    }\n",
       "\n",
       "    .dataframe tbody tr th {\n",
       "        vertical-align: top;\n",
       "    }\n",
       "\n",
       "    .dataframe thead th {\n",
       "        text-align: right;\n",
       "    }\n",
       "</style>\n",
       "<table border=\"1\" class=\"dataframe\">\n",
       "  <thead>\n",
       "    <tr style=\"text-align: right;\">\n",
       "      <th></th>\n",
       "      <th>File Name</th>\n",
       "      <th>Tweet</th>\n",
       "      <th>Swntiment</th>\n",
       "      <th>Hashtags</th>\n",
       "      <th>Cleaned_Tweet</th>\n",
       "      <th>Swntiment_encoding</th>\n",
       "    </tr>\n",
       "  </thead>\n",
       "  <tbody>\n",
       "    <tr>\n",
       "      <th>0</th>\n",
       "      <td>1.txt</td>\n",
       "      <td>How I feel today #legday #jelly #aching #gym</td>\n",
       "      <td>negative</td>\n",
       "      <td>[#legday, #jelly, #aching, #gym]</td>\n",
       "      <td>feel today</td>\n",
       "      <td>-1</td>\n",
       "    </tr>\n",
       "    <tr>\n",
       "      <th>1</th>\n",
       "      <td>10.txt</td>\n",
       "      <td>@ArrivaTW absolute disgrace two carriages from...</td>\n",
       "      <td>negative</td>\n",
       "      <td>[#disgraced]</td>\n",
       "      <td>absolute disgrace two carriages bangor half wa...</td>\n",
       "      <td>-1</td>\n",
       "    </tr>\n",
       "    <tr>\n",
       "      <th>2</th>\n",
       "      <td>100.txt</td>\n",
       "      <td>This is my Valentine's from 1 of my nephews. I...</td>\n",
       "      <td>positive</td>\n",
       "      <td>[]</td>\n",
       "      <td>valentines 1 nephews elated sometimes little t...</td>\n",
       "      <td>1</td>\n",
       "    </tr>\n",
       "    <tr>\n",
       "      <th>3</th>\n",
       "      <td>1000.txt</td>\n",
       "      <td>betterfeelingfilms: RT via Instagram: First da...</td>\n",
       "      <td>neutral</td>\n",
       "      <td>[#powerless]</td>\n",
       "      <td>betterfeelingfilms rt via instagram first day ...</td>\n",
       "      <td>0</td>\n",
       "    </tr>\n",
       "    <tr>\n",
       "      <th>4</th>\n",
       "      <td>1001.txt</td>\n",
       "      <td>Zoe's first love #Rattled @JohnnyHarper15</td>\n",
       "      <td>positive</td>\n",
       "      <td>[#Rattled]</td>\n",
       "      <td>zoes first love</td>\n",
       "      <td>1</td>\n",
       "    </tr>\n",
       "    <tr>\n",
       "      <th>...</th>\n",
       "      <td>...</td>\n",
       "      <td>...</td>\n",
       "      <td>...</td>\n",
       "      <td>...</td>\n",
       "      <td>...</td>\n",
       "      <td>...</td>\n",
       "    </tr>\n",
       "    <tr>\n",
       "      <th>4864</th>\n",
       "      <td>995.txt</td>\n",
       "      <td>OMG. Well done #Eskom! 'Man dies during #LoadS...</td>\n",
       "      <td>positive</td>\n",
       "      <td>[#Eskom, #LoadShedding, #Powerless]</td>\n",
       "      <td>omg well done man dies</td>\n",
       "      <td>1</td>\n",
       "    </tr>\n",
       "    <tr>\n",
       "      <th>4865</th>\n",
       "      <td>996.txt</td>\n",
       "      <td>Feelin' the love in here! #ValentinesDay #caring</td>\n",
       "      <td>positive</td>\n",
       "      <td>[#ValentinesDay, #caring]</td>\n",
       "      <td>feelin love</td>\n",
       "      <td>1</td>\n",
       "    </tr>\n",
       "    <tr>\n",
       "      <th>4866</th>\n",
       "      <td>997.txt</td>\n",
       "      <td>#blue #eyes can't be #beaten</td>\n",
       "      <td>neutral</td>\n",
       "      <td>[#blue, #eyes, #beaten]</td>\n",
       "      <td>cant</td>\n",
       "      <td>0</td>\n",
       "    </tr>\n",
       "    <tr>\n",
       "      <th>4867</th>\n",
       "      <td>998.txt</td>\n",
       "      <td>LA CHUCHA LOUUU TE CHUPO LOS OJOS..!</td>\n",
       "      <td>neutral</td>\n",
       "      <td>[]</td>\n",
       "      <td>la chucha louuu te chupo los ojos</td>\n",
       "      <td>0</td>\n",
       "    </tr>\n",
       "    <tr>\n",
       "      <th>4868</th>\n",
       "      <td>999.txt</td>\n",
       "      <td>#colorsplash_bw #zealous Remedios #herbales y ...</td>\n",
       "      <td>positive</td>\n",
       "      <td>[#colorsplash_bw, #zealous, #herbales]</td>\n",
       "      <td>remedios tratamientos naturales remedios herbales</td>\n",
       "      <td>1</td>\n",
       "    </tr>\n",
       "  </tbody>\n",
       "</table>\n",
       "<p>4869 rows × 6 columns</p>\n",
       "</div>"
      ],
      "text/plain": [
       "     File Name                                              Tweet Swntiment  \\\n",
       "0        1.txt      How I feel today #legday #jelly #aching #gym   negative   \n",
       "1       10.txt  @ArrivaTW absolute disgrace two carriages from...  negative   \n",
       "2      100.txt  This is my Valentine's from 1 of my nephews. I...  positive   \n",
       "3     1000.txt  betterfeelingfilms: RT via Instagram: First da...   neutral   \n",
       "4     1001.txt         Zoe's first love #Rattled @JohnnyHarper15   positive   \n",
       "...        ...                                                ...       ...   \n",
       "4864   995.txt  OMG. Well done #Eskom! 'Man dies during #LoadS...  positive   \n",
       "4865   996.txt  Feelin' the love in here! #ValentinesDay #caring   positive   \n",
       "4866   997.txt                      #blue #eyes can't be #beaten    neutral   \n",
       "4867   998.txt              LA CHUCHA LOUUU TE CHUPO LOS OJOS..!    neutral   \n",
       "4868   999.txt  #colorsplash_bw #zealous Remedios #herbales y ...  positive   \n",
       "\n",
       "                                    Hashtags  \\\n",
       "0           [#legday, #jelly, #aching, #gym]   \n",
       "1                               [#disgraced]   \n",
       "2                                         []   \n",
       "3                               [#powerless]   \n",
       "4                                 [#Rattled]   \n",
       "...                                      ...   \n",
       "4864     [#Eskom, #LoadShedding, #Powerless]   \n",
       "4865               [#ValentinesDay, #caring]   \n",
       "4866                 [#blue, #eyes, #beaten]   \n",
       "4867                                      []   \n",
       "4868  [#colorsplash_bw, #zealous, #herbales]   \n",
       "\n",
       "                                          Cleaned_Tweet  Swntiment_encoding  \n",
       "0                                            feel today                  -1  \n",
       "1     absolute disgrace two carriages bangor half wa...                  -1  \n",
       "2     valentines 1 nephews elated sometimes little t...                   1  \n",
       "3     betterfeelingfilms rt via instagram first day ...                   0  \n",
       "4                                       zoes first love                   1  \n",
       "...                                                 ...                 ...  \n",
       "4864                             omg well done man dies                   1  \n",
       "4865                                        feelin love                   1  \n",
       "4866                                               cant                   0  \n",
       "4867                  la chucha louuu te chupo los ojos                   0  \n",
       "4868  remedios tratamientos naturales remedios herbales                   1  \n",
       "\n",
       "[4869 rows x 6 columns]"
      ]
     },
     "execution_count": 71,
     "metadata": {},
     "output_type": "execute_result"
    }
   ],
   "source": [
    "data"
   ]
  },
  {
   "cell_type": "code",
   "execution_count": 92,
   "id": "a03b9755",
   "metadata": {},
   "outputs": [],
   "source": [
    "from sklearn.feature_extraction.text import CountVectorizer\n",
    "\n",
    "vectorizer = CountVectorizer(max_features=5000)  # Keep top 5000 features\n",
    "X = vectorizer.fit_transform(data['Cleaned_Tweet'])\n",
    "Y = data['Swntiment_encoding']\n"
   ]
  },
  {
   "cell_type": "markdown",
   "id": "85141ed3",
   "metadata": {},
   "source": [
    "# Splitting Data into Training and Testing Sets\n",
    "\n",
    "The code splits data into training and testing sets, with 80% for training and 20% for testing, using a random seed for reproducibility.\n",
    "\n",
    "\n",
    "\n",
    "\n",
    "\n",
    "\n"
   ]
  },
  {
   "cell_type": "code",
   "execution_count": 93,
   "id": "370b172a",
   "metadata": {},
   "outputs": [],
   "source": [
    "from sklearn.model_selection import train_test_split\n",
    "\n",
    "X_train, X_test, Y_train, Y_test = train_test_split(X, Y, test_size=0.2, random_state=42)\n"
   ]
  },
  {
   "cell_type": "markdown",
   "id": "d00d4f8a",
   "metadata": {},
   "source": [
    "# Training a Multinomial Naive Bayes Model\n",
    "\n",
    "The code initializes and trains a Multinomial Naive Bayes classifier on the training data (X_train, Y_train) to predict the target variable."
   ]
  },
  {
   "cell_type": "code",
   "execution_count": 94,
   "id": "0f045bae",
   "metadata": {
    "scrolled": true
   },
   "outputs": [
    {
     "data": {
      "text/html": [
       "<style>#sk-container-id-4 {color: black;background-color: white;}#sk-container-id-4 pre{padding: 0;}#sk-container-id-4 div.sk-toggleable {background-color: white;}#sk-container-id-4 label.sk-toggleable__label {cursor: pointer;display: block;width: 100%;margin-bottom: 0;padding: 0.3em;box-sizing: border-box;text-align: center;}#sk-container-id-4 label.sk-toggleable__label-arrow:before {content: \"▸\";float: left;margin-right: 0.25em;color: #696969;}#sk-container-id-4 label.sk-toggleable__label-arrow:hover:before {color: black;}#sk-container-id-4 div.sk-estimator:hover label.sk-toggleable__label-arrow:before {color: black;}#sk-container-id-4 div.sk-toggleable__content {max-height: 0;max-width: 0;overflow: hidden;text-align: left;background-color: #f0f8ff;}#sk-container-id-4 div.sk-toggleable__content pre {margin: 0.2em;color: black;border-radius: 0.25em;background-color: #f0f8ff;}#sk-container-id-4 input.sk-toggleable__control:checked~div.sk-toggleable__content {max-height: 200px;max-width: 100%;overflow: auto;}#sk-container-id-4 input.sk-toggleable__control:checked~label.sk-toggleable__label-arrow:before {content: \"▾\";}#sk-container-id-4 div.sk-estimator input.sk-toggleable__control:checked~label.sk-toggleable__label {background-color: #d4ebff;}#sk-container-id-4 div.sk-label input.sk-toggleable__control:checked~label.sk-toggleable__label {background-color: #d4ebff;}#sk-container-id-4 input.sk-hidden--visually {border: 0;clip: rect(1px 1px 1px 1px);clip: rect(1px, 1px, 1px, 1px);height: 1px;margin: -1px;overflow: hidden;padding: 0;position: absolute;width: 1px;}#sk-container-id-4 div.sk-estimator {font-family: monospace;background-color: #f0f8ff;border: 1px dotted black;border-radius: 0.25em;box-sizing: border-box;margin-bottom: 0.5em;}#sk-container-id-4 div.sk-estimator:hover {background-color: #d4ebff;}#sk-container-id-4 div.sk-parallel-item::after {content: \"\";width: 100%;border-bottom: 1px solid gray;flex-grow: 1;}#sk-container-id-4 div.sk-label:hover label.sk-toggleable__label {background-color: #d4ebff;}#sk-container-id-4 div.sk-serial::before {content: \"\";position: absolute;border-left: 1px solid gray;box-sizing: border-box;top: 0;bottom: 0;left: 50%;z-index: 0;}#sk-container-id-4 div.sk-serial {display: flex;flex-direction: column;align-items: center;background-color: white;padding-right: 0.2em;padding-left: 0.2em;position: relative;}#sk-container-id-4 div.sk-item {position: relative;z-index: 1;}#sk-container-id-4 div.sk-parallel {display: flex;align-items: stretch;justify-content: center;background-color: white;position: relative;}#sk-container-id-4 div.sk-item::before, #sk-container-id-4 div.sk-parallel-item::before {content: \"\";position: absolute;border-left: 1px solid gray;box-sizing: border-box;top: 0;bottom: 0;left: 50%;z-index: -1;}#sk-container-id-4 div.sk-parallel-item {display: flex;flex-direction: column;z-index: 1;position: relative;background-color: white;}#sk-container-id-4 div.sk-parallel-item:first-child::after {align-self: flex-end;width: 50%;}#sk-container-id-4 div.sk-parallel-item:last-child::after {align-self: flex-start;width: 50%;}#sk-container-id-4 div.sk-parallel-item:only-child::after {width: 0;}#sk-container-id-4 div.sk-dashed-wrapped {border: 1px dashed gray;margin: 0 0.4em 0.5em 0.4em;box-sizing: border-box;padding-bottom: 0.4em;background-color: white;}#sk-container-id-4 div.sk-label label {font-family: monospace;font-weight: bold;display: inline-block;line-height: 1.2em;}#sk-container-id-4 div.sk-label-container {text-align: center;}#sk-container-id-4 div.sk-container {/* jupyter's `normalize.less` sets `[hidden] { display: none; }` but bootstrap.min.css set `[hidden] { display: none !important; }` so we also need the `!important` here to be able to override the default hidden behavior on the sphinx rendered scikit-learn.org. See: https://github.com/scikit-learn/scikit-learn/issues/21755 */display: inline-block !important;position: relative;}#sk-container-id-4 div.sk-text-repr-fallback {display: none;}</style><div id=\"sk-container-id-4\" class=\"sk-top-container\"><div class=\"sk-text-repr-fallback\"><pre>MultinomialNB()</pre><b>In a Jupyter environment, please rerun this cell to show the HTML representation or trust the notebook. <br />On GitHub, the HTML representation is unable to render, please try loading this page with nbviewer.org.</b></div><div class=\"sk-container\" hidden><div class=\"sk-item\"><div class=\"sk-estimator sk-toggleable\"><input class=\"sk-toggleable__control sk-hidden--visually\" id=\"sk-estimator-id-4\" type=\"checkbox\" checked><label for=\"sk-estimator-id-4\" class=\"sk-toggleable__label sk-toggleable__label-arrow\">MultinomialNB</label><div class=\"sk-toggleable__content\"><pre>MultinomialNB()</pre></div></div></div></div></div>"
      ],
      "text/plain": [
       "MultinomialNB()"
      ]
     },
     "execution_count": 94,
     "metadata": {},
     "output_type": "execute_result"
    }
   ],
   "source": [
    "from sklearn.naive_bayes import MultinomialNB\n",
    "\n",
    "model = MultinomialNB()\n",
    "model.fit(X_train, Y_train)\n"
   ]
  },
  {
   "cell_type": "markdown",
   "id": "8e5a8bf7",
   "metadata": {},
   "source": [
    "# Evaluating Model Performance\n",
    "\n",
    "The code predicts labels for the test set (X_test), calculates the accuracy, and generates a classification report to evaluate the model's performance."
   ]
  },
  {
   "cell_type": "code",
   "execution_count": 95,
   "id": "d5b80bd0",
   "metadata": {
    "scrolled": true
   },
   "outputs": [
    {
     "name": "stdout",
     "output_type": "stream",
     "text": [
      "Accuracy: 0.635523613963039\n",
      "Classification Report:\n",
      "               precision    recall  f1-score   support\n",
      "\n",
      "          -1       0.66      0.59      0.63       284\n",
      "           0       0.60      0.63      0.61       367\n",
      "           1       0.66      0.67      0.67       323\n",
      "\n",
      "    accuracy                           0.64       974\n",
      "   macro avg       0.64      0.63      0.64       974\n",
      "weighted avg       0.64      0.64      0.64       974\n",
      "\n"
     ]
    }
   ],
   "source": [
    "from sklearn.metrics import classification_report, accuracy_score\n",
    "\n",
    "Y_pred = model.predict(X_test)\n",
    "print(\"Accuracy:\", accuracy_score(Y_test, Y_pred))\n",
    "print(\"Classification Report:\\n\", classification_report(Y_test, Y_pred))\n"
   ]
  },
  {
   "cell_type": "markdown",
   "id": "6b34b809",
   "metadata": {},
   "source": [
    "# Predicting Sentiment of New Tweet\n",
    "\n",
    "The code vectorizes a new tweet, predicts its sentiment using the trained model, and displays whether the sentiment is positive, negative, or neutral."
   ]
  },
  {
   "cell_type": "code",
   "execution_count": 96,
   "id": "3bc5c4e6",
   "metadata": {},
   "outputs": [
    {
     "name": "stdout",
     "output_type": "stream",
     "text": [
      "Positive\n"
     ]
    }
   ],
   "source": [
    "new_tweet = [\"i am happy\"]\n",
    "new_tweet_vectorized = vectorizer.transform(new_tweet)\n",
    "new_prediction = model.predict(new_tweet_vectorized)\n",
    "\n",
    "# Display predicted sentiment\n",
    "#print(f\"Predicted Sentiment:\n",
    "if new_prediction == 1:\n",
    "    print('Positive')\n",
    "elif new_prediction == -1:\n",
    "    print('Negative')\n",
    "else:\n",
    "    print('Neutral')"
   ]
  }
 ],
 "metadata": {
  "kernelspec": {
   "display_name": "Python 3 (ipykernel)",
   "language": "python",
   "name": "python3"
  },
  "language_info": {
   "codemirror_mode": {
    "name": "ipython",
    "version": 3
   },
   "file_extension": ".py",
   "mimetype": "text/x-python",
   "name": "python",
   "nbconvert_exporter": "python",
   "pygments_lexer": "ipython3",
   "version": "3.11.4"
  }
 },
 "nbformat": 4,
 "nbformat_minor": 5
}
